{
  "nbformat": 4,
  "nbformat_minor": 0,
  "metadata": {
    "colab": {
      "name": "YOLOX-Colaboratory-coco-minitrain.ipynb",
      "provenance": [],
      "collapsed_sections": []
    },
    "kernelspec": {
      "name": "python3",
      "display_name": "Python 3"
    },
    "language_info": {
      "name": "python"
    },
    "accelerator": "GPU"
  },
  "cells": [
    {
      "cell_type": "markdown",
      "source": [
        "# COCOデータセットダウンロード"
      ],
      "metadata": {
        "id": "gAlLjDLPDGC4"
      }
    },
    {
      "cell_type": "code",
      "execution_count": null,
      "metadata": {
        "id": "-OUkCFdBa_4N"
      },
      "outputs": [],
      "source": [
        "!wget http://images.cocodataset.org/zips/train2017.zip\n",
        "!unzip -n train2017.zip\n",
        "!rm -f train2017.zip\n",
        "\n",
        "!wget http://images.cocodataset.org/zips/val2017.zip\n",
        "!unzip -n val2017.zip\n",
        "!rm -f val2017.zip\n",
        "\n",
        "!wget http://images.cocodataset.org/annotations/annotations_trainval2017.zip\n",
        "!unzip -n annotations_trainval2017.zip\n",
        "!rm -f annotations_trainval2017.zip"
      ]
    },
    {
      "cell_type": "markdown",
      "source": [
        "# COCO minitrainダウンロード"
      ],
      "metadata": {
        "id": "iWG6w8-ADOMa"
      }
    },
    {
      "cell_type": "code",
      "source": [
        "!pip install -U gdown"
      ],
      "metadata": {
        "id": "bJkV6uAB4kLz"
      },
      "execution_count": null,
      "outputs": []
    },
    {
      "cell_type": "code",
      "source": [
        "import gdown\n",
        "\n",
        "gdown.download('https://drive.google.com/uc?id=1lezhgY4M_Ag13w0dEzQ7x_zQ_w0ohjin', 'instances_minitrain2017.json', quiet=False)"
      ],
      "metadata": {
        "id": "xU6Oxd313cLr"
      },
      "execution_count": null,
      "outputs": []
    },
    {
      "cell_type": "markdown",
      "source": [
        "# YOLOX環境準備"
      ],
      "metadata": {
        "id": "FwvZHQb3DRzf"
      }
    },
    {
      "cell_type": "code",
      "source": [
        "!git clone https://github.com/Megvii-BaseDetection/YOLOX\n",
        "%cd YOLOX\n",
        "!pip install -U pip && pip install -r requirements.txt\n",
        "!pip install -v -e ."
      ],
      "metadata": {
        "id": "osoPIFsGbHAI"
      },
      "execution_count": null,
      "outputs": []
    },
    {
      "cell_type": "markdown",
      "source": [
        "# 学習データセットコピー"
      ],
      "metadata": {
        "id": "yGpyYsMFDoTe"
      }
    },
    {
      "cell_type": "code",
      "source": [
        "!mkdir dataset\n",
        "!mkdir dataset/images\n",
        "!mkdir dataset/annotations\n",
        "\n",
        "!cp -rf /content/train2017 dataset/images\n",
        "!cp -rf /content/val2017 dataset/images\n",
        "!cp -rf /content/instances_minitrain2017.json dataset/annotations\n",
        "!cp -rf /content/annotations/instances_train2017.json dataset/annotations\n",
        "!cp -rf /content/annotations/instances_val2017.json dataset/annotations"
      ],
      "metadata": {
        "id": "YyZER5PJc01v"
      },
      "execution_count": null,
      "outputs": []
    },
    {
      "cell_type": "markdown",
      "source": [
        "# YOLOX-Nano学習用ファイル準備"
      ],
      "metadata": {
        "id": "3kYqH0LsDqwI"
      }
    },
    {
      "cell_type": "code",
      "source": [
        "%%writefile nano.py\n",
        "\n",
        "#!/usr/bin/env python3\n",
        "# -*- coding:utf-8 -*-\n",
        "# Copyright (c) Megvii, Inc. and its affiliates.\n",
        "\n",
        "import os\n",
        "\n",
        "import torch.nn as nn\n",
        "\n",
        "from yolox.exp import Exp as MyExp\n",
        "\n",
        "\n",
        "class Exp(MyExp):\n",
        "    def __init__(self):\n",
        "        super(Exp, self).__init__()\n",
        "        self.depth = 0.33\n",
        "        self.width = 0.25\n",
        "        self.input_size = (416, 416)\n",
        "        self.random_size = (10, 20)\n",
        "        self.mosaic_scale = (0.5, 1.5)\n",
        "        self.test_size = (416, 416)\n",
        "        self.mosaic_prob = 0.5\n",
        "        self.enable_mixup = False\n",
        "        self.exp_name = os.path.split(os.path.realpath(__file__))[1].split(\".\")[0]\n",
        "\n",
        "        self.num_classes = 80\n",
        "\n",
        "        # Define yourself dataset path\n",
        "        self.data_dir = \"/content/YOLOX/dataset/images\"\n",
        "        # self.train_ann = \"/content/YOLOX/dataset/annotations/instances_train2017.json\"\n",
        "        self.train_ann = \"/content/YOLOX/dataset/annotations/instances_minitrain2017.json\"\n",
        "        self.val_ann = \"/content/YOLOX/dataset/annotations/instances_val2017.json\"\n",
        "\n",
        "        self.max_epoch = 30\n",
        "        self.data_num_workers = 4\n",
        "        self.eval_interval = 1\n",
        "\n",
        "    def get_model(self, sublinear=False):\n",
        "        def init_yolo(M):\n",
        "            for m in M.modules():\n",
        "                if isinstance(m, nn.BatchNorm2d):\n",
        "                    m.eps = 1e-3\n",
        "                    m.momentum = 0.03\n",
        "\n",
        "        if \"model\" not in self.__dict__:\n",
        "            from yolox.models import YOLOX, YOLOPAFPN, YOLOXHead\n",
        "            in_channels = [256, 512, 1024]\n",
        "            # NANO model use depthwise = True, which is main difference.\n",
        "            backbone = YOLOPAFPN(self.depth,\n",
        "                                 self.width,\n",
        "                                 in_channels=in_channels,\n",
        "                                 depthwise=True)\n",
        "            head = YOLOXHead(self.num_classes,\n",
        "                             self.width,\n",
        "                             in_channels=in_channels,\n",
        "                             depthwise=True)\n",
        "            self.model = YOLOX(backbone, head)\n",
        "\n",
        "        self.model.apply(init_yolo)\n",
        "        self.model.head.initialize_biases(1e-2)\n",
        "        return self.model"
      ],
      "metadata": {
        "id": "PcUJTQ10ie5o"
      },
      "execution_count": null,
      "outputs": []
    },
    {
      "cell_type": "markdown",
      "source": [
        "# 訓練済みモデルダウンロード"
      ],
      "metadata": {
        "id": "hExwDSqHDvW1"
      }
    },
    {
      "cell_type": "code",
      "source": [
        "!wget https://github.com/Megvii-BaseDetection/storage/releases/download/0.0.1/yolox_nano.pth"
      ],
      "metadata": {
        "id": "O0YLPYqnjWp_"
      },
      "execution_count": null,
      "outputs": []
    },
    {
      "cell_type": "markdown",
      "source": [
        "# 訓練"
      ],
      "metadata": {
        "id": "gVNOvnRrDycK"
      }
    },
    {
      "cell_type": "code",
      "source": [
        "!python tools/train.py \\\n",
        "    -f nano.py \\\n",
        "    -d 1 \\\n",
        "    -b 64 \\\n",
        "    --fp16 \\\n",
        "    -o \\\n",
        "    -c yolox_nano.pth"
      ],
      "metadata": {
        "id": "hWLvBYzwjYm1"
      },
      "execution_count": null,
      "outputs": []
    },
    {
      "cell_type": "markdown",
      "source": [
        "# ONNX変換"
      ],
      "metadata": {
        "id": "U1MBD8YCD1AN"
      }
    },
    {
      "cell_type": "code",
      "source": [
        "!python tools/export_onnx.py \\\n",
        "    --output-name yolox_nano.onnx \\\n",
        "    -n yolox-nano \\\n",
        "    -f nano.py \\\n",
        "    -c '/content/YOLOX/YOLOX_outputs/nano/best_ckpt.pth'"
      ],
      "metadata": {
        "id": "Mj1yC0-zjb1i"
      },
      "execution_count": null,
      "outputs": []
    },
    {
      "cell_type": "code",
      "source": [
        "from google.colab import files\n",
        "\n",
        "files.download('yolox_nano.onnx')"
      ],
      "metadata": {
        "id": "rqPbGHuttk2B"
      },
      "execution_count": null,
      "outputs": []
    }
  ]
}